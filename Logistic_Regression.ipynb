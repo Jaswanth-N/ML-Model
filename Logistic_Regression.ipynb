{
  "nbformat": 4,
  "nbformat_minor": 0,
  "metadata": {
    "colab": {
      "name": "Logistic_Regression.ipynb",
      "provenance": [],
      "authorship_tag": "ABX9TyNtR79EkqcZsm+IUUDNK4Uh",
      "include_colab_link": true
    },
    "kernelspec": {
      "name": "python3",
      "display_name": "Python 3"
    }
  },
  "cells": [
    {
      "cell_type": "markdown",
      "metadata": {
        "id": "view-in-github",
        "colab_type": "text"
      },
      "source": [
        "<a href=\"https://colab.research.google.com/github/Jaswanth-N/ML-Model/blob/master/Logistic_Regression.ipynb\" target=\"_parent\"><img src=\"https://colab.research.google.com/assets/colab-badge.svg\" alt=\"Open In Colab\"/></a>"
      ]
    },
    {
      "cell_type": "code",
      "metadata": {
        "id": "-EAZAi2blKTE",
        "colab_type": "code",
        "colab": {}
      },
      "source": [
        "from sklearn import datasets\n",
        "from sklearn.model_selection import train_test_split\n",
        "import numpy as np\n",
        "from sklearn.metrics import classification_report"
      ],
      "execution_count": 0,
      "outputs": []
    },
    {
      "cell_type": "code",
      "metadata": {
        "id": "ohLdDGq1m1Fm",
        "colab_type": "code",
        "colab": {
          "base_uri": "https://localhost:8080/",
          "height": 54
        },
        "outputId": "cdd237b9-0d35-4a74-bf5f-5a43f65ed4b5"
      },
      "source": [
        "classification_report(y_test,predictions)"
      ],
      "execution_count": 22,
      "outputs": [
        {
          "output_type": "execute_result",
          "data": {
            "text/plain": [
              "'              precision    recall  f1-score   support\\n\\n           0       0.98      0.77      0.86        56\\n           1       0.90      0.99      0.94       115\\n\\n    accuracy                           0.92       171\\n   macro avg       0.94      0.88      0.90       171\\nweighted avg       0.92      0.92      0.92       171\\n'"
            ]
          },
          "metadata": {
            "tags": []
          },
          "execution_count": 22
        }
      ]
    },
    {
      "cell_type": "code",
      "metadata": {
        "id": "rzLWnINFlh3g",
        "colab_type": "code",
        "colab": {}
      },
      "source": [
        " \n",
        "class linearregression:\n",
        "    def __init__(self,lr,n_iters):\n",
        "        self.lr=lr\n",
        "        self.n_iters=n_iters\n",
        "        self.bias=None\n",
        "        self.weights=None\n",
        "    def fit(self,x,y):\n",
        "        n_samples,n_features=x.shape\n",
        "        self.weights=np.zeros(n_features)\n",
        "        self.bias=0\n",
        "        \n",
        "        for i in range(self.n_iters):\n",
        "            log_model=np.dot(x,self.weights)+self.bias\n",
        "            y_predictions=self.sigmoid(log_model)\n",
        "            dw=1/n_samples * np.dot(x.T,(y_predictions-y))\n",
        "            db=1/n_samples * np.sum(y_predictions-y)\n",
        "            self.weights-=self.lr*dw\n",
        "            self.bias-=self.lr*db\n",
        "        \n",
        "        \n",
        "    def predict(self,x):\n",
        "        log_model=np.dot(x,self.weights)+self.bias\n",
        "        y_predictions=self.sigmoid(log_model)\n",
        "        y_pred_cls=[ 1 if prob > .5 else 0 for prob in y_predictions]\n",
        "        return y_pred_cls\n",
        "    def sigmoid(self,x):\n",
        "        return 1/(1+np.exp(-x))"
      ],
      "execution_count": 0,
      "outputs": []
    },
    {
      "cell_type": "code",
      "metadata": {
        "id": "SDYlxUSOlh-Y",
        "colab_type": "code",
        "colab": {}
      },
      "source": [
        " \n",
        "def accuracy(y_true,y_predictions):\n",
        "        accuracy= np.sum(y_true==y_predictions)/len(y_true)\n",
        "        return accuracy"
      ],
      "execution_count": 0,
      "outputs": []
    },
    {
      "cell_type": "code",
      "metadata": {
        "id": "socLYjoAliGl",
        "colab_type": "code",
        "colab": {}
      },
      "source": [
        " \n",
        "df=datasets.load_breast_cancer()\n",
        "x,y=df.data,df.target\n",
        "x_train,x_test,y_train,y_test=train_test_split(x,y,test_size=.30,random_state=40)"
      ],
      "execution_count": 0,
      "outputs": []
    },
    {
      "cell_type": "code",
      "metadata": {
        "id": "tJNlnQtCliRe",
        "colab_type": "code",
        "colab": {
          "base_uri": "https://localhost:8080/",
          "height": 70
        },
        "outputId": "6f1cb521-05f0-44b1-8743-eb39ce318fe7"
      },
      "source": [
        " \n",
        "model=linearregression(lr=.001,n_iters=1000)\n",
        "model.fit(x_train,y_train)\n",
        "predictions=model.predict(x_test)\n",
        "print('LR accuracy is ' ,accuracy(y_test,predictions))"
      ],
      "execution_count": 46,
      "outputs": [
        {
          "output_type": "stream",
          "text": [
            "LR accuracy is  0.9415204678362573\n"
          ],
          "name": "stdout"
        },
        {
          "output_type": "stream",
          "text": [
            "/usr/local/lib/python3.6/dist-packages/ipykernel_launcher.py:28: RuntimeWarning: overflow encountered in exp\n"
          ],
          "name": "stderr"
        }
      ]
    }
  ]
}